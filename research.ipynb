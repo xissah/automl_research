{
 "cells": [
  {
   "cell_type": "code",
   "execution_count": 1,
   "metadata": {},
   "outputs": [
    {
     "name": "stderr",
     "output_type": "stream",
     "text": [
      "/home/xissah/automl_research_dir/automl_research_env/lib/python3.9/site-packages/tpot/builtins/__init__.py:36: UserWarning: Warning: optional dependency `torch` is not available. - skipping import of NN models.\n",
      "  warnings.warn(\"Warning: optional dependency `torch` is not available. - skipping import of NN models.\")\n"
     ]
    }
   ],
   "source": [
    "import pandas as pd\n",
    "import numpy as np\n",
    "from sklearn.model_selection import cross_validate\n",
    "from sklearn.preprocessing import OrdinalEncoder, MinMaxScaler\n",
    "from sklearn.compose import make_column_transformer\n",
    "from sklearn.pipeline import make_pipeline\n",
    "from sklearn.model_selection import GridSearchCV\n",
    "from sklearn.naive_bayes import GaussianNB\n",
    "from sklearn.discriminant_analysis import LinearDiscriminantAnalysis\n",
    "from sklearn.linear_model import LogisticRegression\n",
    "from sklearn.ensemble import RandomForestClassifier, AdaBoostClassifier\n",
    "import autosklearn.classification\n",
    "from tpot import TPOTClassifier\n",
    "import matplotlib.pyplot as plt\n",
    "from h2o.sklearn import H2OAutoMLClassifier\n",
    "from sklearn.model_selection import RepeatedStratifiedKFold"
   ]
  },
  {
   "cell_type": "code",
   "execution_count": 2,
   "metadata": {},
   "outputs": [],
   "source": [
    "# Загрузка данных\n",
    "df = pd.read_csv('/home/xissah/automl_research_dir/datasets/train_set.csv')\n",
    "\n",
    "# Предобработка данных\n",
    "cols_to_drop = [col for col in list(df) if df[col].nunique() <= 1]\n",
    "df = df.drop(columns=cols_to_drop)\n",
    "\n",
    "X = df.iloc[:, :-1]\n",
    "y = df[\"class\"]\n",
    "\n",
    "binary_features = X.columns[X.isin([0, 1]).all()].tolist()\n",
    "numeric_features_nb = X.select_dtypes(\"number\").columns.drop(binary_features).tolist()\n",
    "\n",
    "enc = OrdinalEncoder(handle_unknown=\"use_encoded_value\", unknown_value=-1)\n",
    "mms = MinMaxScaler()\n",
    "\n",
    "ct = make_column_transformer(\n",
    "    (enc, [\"protocol_type\", \"service\", \"flag\"]),\n",
    "    (mms, numeric_features_nb),\n",
    "    remainder=\"passthrough\",\n",
    ")"
   ]
  },
  {
   "cell_type": "code",
   "execution_count": 3,
   "metadata": {},
   "outputs": [],
   "source": [
    "# Настройка кросс-валидации и метрик\n",
    "scoring = ['accuracy', 'f1_macro']\n",
    "cv = RepeatedStratifiedKFold(n_splits=5, n_repeats=3, random_state=42)"
   ]
  },
  {
   "cell_type": "code",
   "execution_count": 4,
   "metadata": {},
   "outputs": [
    {
     "name": "stdout",
     "output_type": "stream",
     "text": [
      "GaussianNB - Accuracy: 0.8971367386259612, F1: 0.8968341469570479, Best Params: {'gaussiannb__var_smoothing': 1.217382727739662e-08}\n"
     ]
    }
   ],
   "source": [
    "results = {}\n",
    "\n",
    "param_grid_gnb = {\n",
    "    'gaussiannb__var_smoothing': np.logspace(0, -15, num=200)\n",
    "}\n",
    "\n",
    "pipeline_gnb = make_pipeline(ct, GaussianNB())\n",
    "grid_gnb = GridSearchCV(pipeline_gnb, param_grid_gnb, cv=cv, scoring=scoring, refit='accuracy')\n",
    "grid_gnb.fit(X, y)\n",
    "cv_results_gnb = cross_validate(grid_gnb.best_estimator_, X, y, cv=cv, scoring=scoring)\n",
    "results['GaussianNB_accuracy'] = cv_results_gnb['test_accuracy'].mean()\n",
    "results['GaussianNB_f1'] = cv_results_gnb['test_f1_macro'].mean()\n",
    "results['GaussianNB_best_params'] = grid_gnb.best_params_\n",
    "print(f\"GaussianNB - Accuracy: {results['GaussianNB_accuracy']}, F1: {results['GaussianNB_f1']}, Best Params: {results['GaussianNB_best_params']}\")"
   ]
  },
  {
   "cell_type": "code",
   "execution_count": 6,
   "metadata": {},
   "outputs": [
    {
     "name": "stdout",
     "output_type": "stream",
     "text": [
      "LinearDiscriminantAnalysis - Accuracy: 0.9538610404282617, F1: 0.9535859582860272, Best Params: {'lineardiscriminantanalysis__solver': 'svd'}\n"
     ]
    }
   ],
   "source": [
    "param_grid_lda = {\n",
    "    'lineardiscriminantanalysis__solver': ['svd', 'lsqr'],\n",
    "}\n",
    "pipeline_lda = make_pipeline(ct, LinearDiscriminantAnalysis())\n",
    "grid_lda = GridSearchCV(pipeline_lda, param_grid_lda, cv=cv, scoring=scoring, refit='accuracy', error_score='raise')\n",
    "grid_lda.fit(X, y)\n",
    "cv_results_lda = cross_validate(grid_lda.best_estimator_, X, y, cv=cv, scoring=scoring)\n",
    "results['LinearDiscriminantAnalysis_accuracy'] = cv_results_lda['test_accuracy'].mean()\n",
    "results['LinearDiscriminantAnalysis_f1'] = cv_results_lda['test_f1_macro'].mean()\n",
    "results['LinearDiscriminantAnalysis_best_params'] = grid_lda.best_params_\n",
    "print(f\"LinearDiscriminantAnalysis - Accuracy: {results['LinearDiscriminantAnalysis_accuracy']}, F1: {results['LinearDiscriminantAnalysis_f1']}, Best Params: {results['LinearDiscriminantAnalysis_best_params']}\")"
   ]
  },
  {
   "cell_type": "code",
   "execution_count": 5,
   "metadata": {},
   "outputs": [
    {
     "name": "stdout",
     "output_type": "stream",
     "text": [
      "LogisticRegression - Accuracy: 0.9555282400557379, F1: 0.9552570305505235, Best Params: {'logisticregression__C': 0.1}\n"
     ]
    }
   ],
   "source": [
    "param_grid_lr = {\n",
    "    \"logisticregression__C\": [0.001, 0.01, 0.1, 1, 10, 100, 1000]\n",
    "}\n",
    "pipeline_lr = make_pipeline(ct, LogisticRegression(max_iter=9000))\n",
    "grid_lr = GridSearchCV(pipeline_lr, param_grid_lr, cv=cv, scoring=scoring, refit='accuracy')\n",
    "grid_lr.fit(X, y)\n",
    "cv_results_lr = cross_validate(grid_lr.best_estimator_, X, y, cv=cv, scoring=scoring)\n",
    "results['LogisticRegression_accuracy'] = cv_results_lr['test_accuracy'].mean()\n",
    "results['LogisticRegression_f1'] = cv_results_lr['test_f1_macro'].mean()\n",
    "results['LogisticRegression_best_params'] = grid_lr.best_params_\n",
    "print(f\"LogisticRegression - Accuracy: {results['LogisticRegression_accuracy']}, F1: {results['LogisticRegression_f1']}, Best Params: {results['LogisticRegression_best_params']}\")"
   ]
  },
  {
   "cell_type": "code",
   "execution_count": 8,
   "metadata": {},
   "outputs": [
    {
     "name": "stdout",
     "output_type": "stream",
     "text": [
      "RandomForestClassifier - Accuracy: 0.9971286818446656, F1: 0.9971147330291199, Best Params: {'randomforestclassifier__max_depth': None, 'randomforestclassifier__n_estimators': 200}\n"
     ]
    }
   ],
   "source": [
    "param_grid_rf = {\n",
    "    'randomforestclassifier__n_estimators': [50, 100, 200],\n",
    "    'randomforestclassifier__max_depth': [None, 10, 20, 30],\n",
    "}\n",
    "pipeline_rf = make_pipeline(ct, RandomForestClassifier())\n",
    "grid_rf = GridSearchCV(pipeline_rf, param_grid_rf, cv=cv, scoring=scoring, refit='accuracy')\n",
    "grid_rf.fit(X, y)\n",
    "cv_results_rf = cross_validate(grid_rf.best_estimator_, X, y, cv=cv, scoring=scoring)\n",
    "results['RandomForestClassifier_accuracy'] = cv_results_rf['test_accuracy'].mean()\n",
    "results['RandomForestClassifier_f1'] = cv_results_rf['test_f1_macro'].mean()\n",
    "results['RandomForestClassifier_best_params'] = grid_rf.best_params_\n",
    "print(f\"RandomForestClassifier - Accuracy: {results['RandomForestClassifier_accuracy']}, F1: {results['RandomForestClassifier_f1']}, Best Params: {results['RandomForestClassifier_best_params']}\")"
   ]
  },
  {
   "cell_type": "code",
   "execution_count": 9,
   "metadata": {},
   "outputs": [
    {
     "name": "stdout",
     "output_type": "stream",
     "text": [
      "AdaBoostClassifier - Accuracy: 0.9903539897073306, F1: 0.9903063392830421, Best Params: {'adaboostclassifier__learning_rate': 1.0, 'adaboostclassifier__n_estimators': 200}\n"
     ]
    }
   ],
   "source": [
    "param_grid_ada = {\n",
    "    'adaboostclassifier__n_estimators': [50, 100, 200],\n",
    "    'adaboostclassifier__learning_rate': [0.01, 0.1, 1.0, 10]\n",
    "}\n",
    "pipeline_ada = make_pipeline(ct, AdaBoostClassifier())\n",
    "grid_ada = GridSearchCV(pipeline_ada, param_grid_ada, cv=cv, scoring=scoring, refit='accuracy')\n",
    "grid_ada.fit(X, y)\n",
    "cv_results_ada = cross_validate(grid_ada.best_estimator_, X, y, cv=cv, scoring=scoring)\n",
    "results['AdaBoostClassifier_accuracy'] = cv_results_ada['test_accuracy'].mean()\n",
    "results['AdaBoostClassifier_f1'] = cv_results_ada['test_f1_macro'].mean()\n",
    "results['AdaBoostClassifier_best_params'] = grid_ada.best_params_\n",
    "print(f\"AdaBoostClassifier - Accuracy: {results['AdaBoostClassifier_accuracy']}, F1: {results['AdaBoostClassifier_f1']}, Best Params: {results['AdaBoostClassifier_best_params']}\")"
   ]
  },
  {
   "cell_type": "code",
   "execution_count": 10,
   "metadata": {},
   "outputs": [
    {
     "name": "stdout",
     "output_type": "stream",
     "text": [
      "Checking whether there is an H2O instance running at http://localhost:54321..... not found.\n",
      "Attempting to start a local H2O server...\n",
      "  Java Version: openjdk version \"17.0.9\" 2023-10-17; OpenJDK Runtime Environment (build 17.0.9+9-Ubuntu-122.04); OpenJDK 64-Bit Server VM (build 17.0.9+9-Ubuntu-122.04, mixed mode, sharing)\n",
      "  Starting server from /home/xissah/automl_research_dir/automl_research_env/lib/python3.9/site-packages/h2o/backend/bin/h2o.jar\n",
      "  Ice root: /tmp/tmp2q828orc\n",
      "  JVM stdout: /tmp/tmp2q828orc/h2o_xissah_started_from_python.out\n",
      "  JVM stderr: /tmp/tmp2q828orc/h2o_xissah_started_from_python.err\n",
      "  Server is running at http://127.0.0.1:54321\n",
      "Connecting to H2O server at http://127.0.0.1:54321 ... successful.\n"
     ]
    },
    {
     "data": {
      "text/html": [
       "\n",
       "<style>\n",
       "\n",
       "#h2o-table-1.h2o-container {\n",
       "  overflow-x: auto;\n",
       "}\n",
       "#h2o-table-1 .h2o-table {\n",
       "  /* width: 100%; */\n",
       "  margin-top: 1em;\n",
       "  margin-bottom: 1em;\n",
       "}\n",
       "#h2o-table-1 .h2o-table caption {\n",
       "  white-space: nowrap;\n",
       "  caption-side: top;\n",
       "  text-align: left;\n",
       "  /* margin-left: 1em; */\n",
       "  margin: 0;\n",
       "  font-size: larger;\n",
       "}\n",
       "#h2o-table-1 .h2o-table thead {\n",
       "  white-space: nowrap; \n",
       "  position: sticky;\n",
       "  top: 0;\n",
       "  box-shadow: 0 -1px inset;\n",
       "}\n",
       "#h2o-table-1 .h2o-table tbody {\n",
       "  overflow: auto;\n",
       "}\n",
       "#h2o-table-1 .h2o-table th,\n",
       "#h2o-table-1 .h2o-table td {\n",
       "  text-align: right;\n",
       "  /* border: 1px solid; */\n",
       "}\n",
       "#h2o-table-1 .h2o-table tr:nth-child(even) {\n",
       "  /* background: #F5F5F5 */\n",
       "}\n",
       "\n",
       "</style>      \n",
       "<div id=\"h2o-table-1\" class=\"h2o-container\">\n",
       "  <table class=\"h2o-table\">\n",
       "    <caption></caption>\n",
       "    <thead></thead>\n",
       "    <tbody><tr><td>H2O_cluster_uptime:</td>\n",
       "<td>01 secs</td></tr>\n",
       "<tr><td>H2O_cluster_timezone:</td>\n",
       "<td>Europe/Moscow</td></tr>\n",
       "<tr><td>H2O_data_parsing_timezone:</td>\n",
       "<td>UTC</td></tr>\n",
       "<tr><td>H2O_cluster_version:</td>\n",
       "<td>3.46.0.1</td></tr>\n",
       "<tr><td>H2O_cluster_version_age:</td>\n",
       "<td>3 months</td></tr>\n",
       "<tr><td>H2O_cluster_name:</td>\n",
       "<td>H2O_from_python_xissah_napb7v</td></tr>\n",
       "<tr><td>H2O_cluster_total_nodes:</td>\n",
       "<td>1</td></tr>\n",
       "<tr><td>H2O_cluster_free_memory:</td>\n",
       "<td>956 Mb</td></tr>\n",
       "<tr><td>H2O_cluster_total_cores:</td>\n",
       "<td>4</td></tr>\n",
       "<tr><td>H2O_cluster_allowed_cores:</td>\n",
       "<td>4</td></tr>\n",
       "<tr><td>H2O_cluster_status:</td>\n",
       "<td>locked, healthy</td></tr>\n",
       "<tr><td>H2O_connection_url:</td>\n",
       "<td>http://127.0.0.1:54321</td></tr>\n",
       "<tr><td>H2O_connection_proxy:</td>\n",
       "<td>{\"http\": null, \"https\": null}</td></tr>\n",
       "<tr><td>H2O_internal_security:</td>\n",
       "<td>False</td></tr>\n",
       "<tr><td>Python_version:</td>\n",
       "<td>3.9.18 final</td></tr></tbody>\n",
       "  </table>\n",
       "</div>\n"
      ],
      "text/plain": [
       "--------------------------  -----------------------------\n",
       "H2O_cluster_uptime:         01 secs\n",
       "H2O_cluster_timezone:       Europe/Moscow\n",
       "H2O_data_parsing_timezone:  UTC\n",
       "H2O_cluster_version:        3.46.0.1\n",
       "H2O_cluster_version_age:    3 months\n",
       "H2O_cluster_name:           H2O_from_python_xissah_napb7v\n",
       "H2O_cluster_total_nodes:    1\n",
       "H2O_cluster_free_memory:    956 Mb\n",
       "H2O_cluster_total_cores:    4\n",
       "H2O_cluster_allowed_cores:  4\n",
       "H2O_cluster_status:         locked, healthy\n",
       "H2O_connection_url:         http://127.0.0.1:54321\n",
       "H2O_connection_proxy:       {\"http\": null, \"https\": null}\n",
       "H2O_internal_security:      False\n",
       "Python_version:             3.9.18 final\n",
       "--------------------------  -----------------------------"
      ]
     },
     "metadata": {},
     "output_type": "display_data"
    },
    {
     "name": "stdout",
     "output_type": "stream",
     "text": [
      "Parse progress: |████████████████████████████████████████████████████████████████| (done) 100%\n",
      "AutoML progress: |███████████████████████████████████████████████████████████████| (done) 100%\n",
      "Parse progress: |████████████████████████████████████████████████████████████████| (done) 100%\n",
      "stackedensemble prediction progress: |███████████████████████████████████████████| (done) 100%\n"
     ]
    },
    {
     "name": "stderr",
     "output_type": "stream",
     "text": [
      "/home/xissah/automl_research_dir/automl_research_env/lib/python3.9/site-packages/h2o/frame.py:1983: H2ODependencyWarning: Converting H2O frame to pandas dataframe using single-thread.  For faster conversion using multi-thread, install datatable (for Python 3.9 or lower), or polars and pyarrow (for Python 3.10 or above) and activate it using:\n",
      "\n",
      "with h2o.utils.threading.local_context(polars_enabled=True, datatable_enabled=True):\n",
      "    pandas_df = h2o_df.as_data_frame()\n",
      "\n",
      "  warnings.warn(\"Converting H2O frame to pandas dataframe using single-thread.  For faster conversion using\"\n"
     ]
    },
    {
     "name": "stdout",
     "output_type": "stream",
     "text": [
      "Parse progress: |████████████████████████████████████████████████████████████████| (done) 100%\n",
      "AutoML progress: |███████████████████████████████████████████████████████████████| (done) 100%\n",
      "Parse progress: |████████████████████████████████████████████████████████████████| (done) 100%\n",
      "stackedensemble prediction progress: |███████████████████████████████████████████| (done) 100%\n"
     ]
    },
    {
     "name": "stderr",
     "output_type": "stream",
     "text": [
      "/home/xissah/automl_research_dir/automl_research_env/lib/python3.9/site-packages/h2o/frame.py:1983: H2ODependencyWarning: Converting H2O frame to pandas dataframe using single-thread.  For faster conversion using multi-thread, install datatable (for Python 3.9 or lower), or polars and pyarrow (for Python 3.10 or above) and activate it using:\n",
      "\n",
      "with h2o.utils.threading.local_context(polars_enabled=True, datatable_enabled=True):\n",
      "    pandas_df = h2o_df.as_data_frame()\n",
      "\n",
      "  warnings.warn(\"Converting H2O frame to pandas dataframe using single-thread.  For faster conversion using\"\n"
     ]
    },
    {
     "name": "stdout",
     "output_type": "stream",
     "text": [
      "Parse progress: |████████████████████████████████████████████████████████████████| (done) 100%\n",
      "AutoML progress: |███████████████████████████████████████████████████████████████| (done) 100%\n",
      "Parse progress: |████████████████████████████████████████████████████████████████| (done) 100%\n",
      "stackedensemble prediction progress: |███████████████████████████████████████████| (done) 100%\n"
     ]
    },
    {
     "name": "stderr",
     "output_type": "stream",
     "text": [
      "/home/xissah/automl_research_dir/automl_research_env/lib/python3.9/site-packages/h2o/job.py:81: UserWarning: Test/Validation dataset column 'service' has levels not trained on: [\"http_8001\"]\n",
      "  warnings.warn(w)\n",
      "/home/xissah/automl_research_dir/automl_research_env/lib/python3.9/site-packages/h2o/frame.py:1983: H2ODependencyWarning: Converting H2O frame to pandas dataframe using single-thread.  For faster conversion using multi-thread, install datatable (for Python 3.9 or lower), or polars and pyarrow (for Python 3.10 or above) and activate it using:\n",
      "\n",
      "with h2o.utils.threading.local_context(polars_enabled=True, datatable_enabled=True):\n",
      "    pandas_df = h2o_df.as_data_frame()\n",
      "\n",
      "  warnings.warn(\"Converting H2O frame to pandas dataframe using single-thread.  For faster conversion using\"\n"
     ]
    },
    {
     "name": "stdout",
     "output_type": "stream",
     "text": [
      "Parse progress: |████████████████████████████████████████████████████████████████| (done) 100%\n",
      "AutoML progress: |███████████████████████████████████████████████████████████████| (done) 100%\n",
      "Parse progress: |████████████████████████████████████████████████████████████████| (done) 100%\n",
      "stackedensemble prediction progress: |███████████████████████████████████████████| (done) 100%\n"
     ]
    },
    {
     "name": "stderr",
     "output_type": "stream",
     "text": [
      "/home/xissah/automl_research_dir/automl_research_env/lib/python3.9/site-packages/h2o/frame.py:1983: H2ODependencyWarning: Converting H2O frame to pandas dataframe using single-thread.  For faster conversion using multi-thread, install datatable (for Python 3.9 or lower), or polars and pyarrow (for Python 3.10 or above) and activate it using:\n",
      "\n",
      "with h2o.utils.threading.local_context(polars_enabled=True, datatable_enabled=True):\n",
      "    pandas_df = h2o_df.as_data_frame()\n",
      "\n",
      "  warnings.warn(\"Converting H2O frame to pandas dataframe using single-thread.  For faster conversion using\"\n"
     ]
    },
    {
     "name": "stdout",
     "output_type": "stream",
     "text": [
      "Parse progress: |████████████████████████████████████████████████████████████████| (done) 100%\n",
      "AutoML progress: |\n",
      "06:30:30.868: _train param, Dropping bad and constant columns: [urgent]\n",
      "\n",
      "██████\n",
      "06:30:48.216: _train param, Dropping bad and constant columns: [urgent]\n",
      "\n",
      "██\n",
      "06:30:53.801: _train param, Dropping bad and constant columns: [urgent]\n",
      "\n",
      "███████████████\n",
      "06:31:34.980: _train param, Dropping unused columns: [urgent]\n",
      "\n",
      "\n",
      "06:31:36.241: _train param, Dropping bad and constant columns: [urgent]\n",
      "\n",
      "████\n",
      "06:31:47.678: _train param, Dropping bad and constant columns: [urgent]\n",
      "\n",
      "███\n",
      "06:31:56.452: _train param, Dropping bad and constant columns: [urgent]\n",
      "\n",
      "█████\n",
      "06:32:10.583: _train param, Dropping bad and constant columns: [urgent]\n",
      "\n",
      "████\n",
      "06:32:24.5: _train param, Dropping bad and constant columns: [urgent]\n",
      "\n",
      "██████\n",
      "06:32:41.57: _train param, Dropping unused columns: [urgent]\n",
      "\n",
      "█\n",
      "06:32:42.16: _train param, Dropping unused columns: [urgent]\n",
      "\n",
      "\n",
      "06:32:43.718: _train param, Dropping bad and constant columns: [urgent]\n",
      "\n",
      "███\n",
      "06:32:50.635: _train param, Dropping bad and constant columns: [urgent]\n",
      "\n",
      "██\n",
      "06:32:56.234: _train param, Dropping bad and constant columns: [urgent]\n",
      "\n",
      "██\n",
      "06:33:04.477: _train param, Dropping bad and constant columns: [urgent]\n",
      "\n",
      "██\n",
      "06:33:10.241: _train param, Dropping unused columns: [urgent]\n",
      "\n",
      "█\n",
      "06:33:11.205: _train param, Dropping unused columns: [urgent]\n",
      "\n",
      "███████| (done) 100%\n",
      "Parse progress: |████████████████████████████████████████████████████████████████| (done) 100%\n",
      "xgboost prediction progress: |███████████████████████████████████████████████████| (done) 100%\n"
     ]
    },
    {
     "name": "stderr",
     "output_type": "stream",
     "text": [
      "/home/xissah/automl_research_dir/automl_research_env/lib/python3.9/site-packages/h2o/frame.py:1983: H2ODependencyWarning: Converting H2O frame to pandas dataframe using single-thread.  For faster conversion using multi-thread, install datatable (for Python 3.9 or lower), or polars and pyarrow (for Python 3.10 or above) and activate it using:\n",
      "\n",
      "with h2o.utils.threading.local_context(polars_enabled=True, datatable_enabled=True):\n",
      "    pandas_df = h2o_df.as_data_frame()\n",
      "\n",
      "  warnings.warn(\"Converting H2O frame to pandas dataframe using single-thread.  For faster conversion using\"\n"
     ]
    },
    {
     "name": "stdout",
     "output_type": "stream",
     "text": [
      "Parse progress: |████████████████████████████████████████████████████████████████| (done) 100%\n",
      "AutoML progress: |███████████████████████████████████████████████████████████████| (done) 100%\n",
      "Parse progress: |████████████████████████████████████████████████████████████████| (done) 100%\n",
      "stackedensemble prediction progress: |███████████████████████████████████████████| (done) 100%\n"
     ]
    },
    {
     "name": "stderr",
     "output_type": "stream",
     "text": [
      "/home/xissah/automl_research_dir/automl_research_env/lib/python3.9/site-packages/h2o/frame.py:1983: H2ODependencyWarning: Converting H2O frame to pandas dataframe using single-thread.  For faster conversion using multi-thread, install datatable (for Python 3.9 or lower), or polars and pyarrow (for Python 3.10 or above) and activate it using:\n",
      "\n",
      "with h2o.utils.threading.local_context(polars_enabled=True, datatable_enabled=True):\n",
      "    pandas_df = h2o_df.as_data_frame()\n",
      "\n",
      "  warnings.warn(\"Converting H2O frame to pandas dataframe using single-thread.  For faster conversion using\"\n"
     ]
    },
    {
     "name": "stdout",
     "output_type": "stream",
     "text": [
      "Parse progress: |████████████████████████████████████████████████████████████████| (done) 100%\n",
      "AutoML progress: |███████████████████████████████████████████████████████████████| (done) 100%\n",
      "Parse progress: |████████████████████████████████████████████████████████████████| (done) 100%\n",
      "stackedensemble prediction progress: |███████████████████████████████████████████| (done) 100%\n"
     ]
    },
    {
     "name": "stderr",
     "output_type": "stream",
     "text": [
      "/home/xissah/automl_research_dir/automl_research_env/lib/python3.9/site-packages/h2o/frame.py:1983: H2ODependencyWarning: Converting H2O frame to pandas dataframe using single-thread.  For faster conversion using multi-thread, install datatable (for Python 3.9 or lower), or polars and pyarrow (for Python 3.10 or above) and activate it using:\n",
      "\n",
      "with h2o.utils.threading.local_context(polars_enabled=True, datatable_enabled=True):\n",
      "    pandas_df = h2o_df.as_data_frame()\n",
      "\n",
      "  warnings.warn(\"Converting H2O frame to pandas dataframe using single-thread.  For faster conversion using\"\n"
     ]
    },
    {
     "name": "stdout",
     "output_type": "stream",
     "text": [
      "Parse progress: |████████████████████████████████████████████████████████████████| (done) 100%\n",
      "AutoML progress: |\n",
      "06:39:39.351: _train param, Dropping bad and constant columns: [urgent]\n",
      "\n",
      "█████████\n",
      "06:40:03.890: _train param, Dropping bad and constant columns: [urgent]\n",
      "\n",
      "██\n",
      "06:40:09.829: _train param, Dropping bad and constant columns: [urgent]\n",
      "\n",
      "████████████████████\n",
      "06:41:06.788: _train param, Dropping unused columns: [urgent]\n",
      "\n",
      "\n",
      "06:41:08.146: _train param, Dropping bad and constant columns: [urgent]\n",
      "\n",
      "████\n",
      "06:41:19.108: _train param, Dropping bad and constant columns: [urgent]\n",
      "\n",
      "███\n",
      "06:41:27.245: _train param, Dropping bad and constant columns: [urgent]\n",
      "\n",
      "████\n",
      "06:41:38.980: _train param, Dropping bad and constant columns: [urgent]\n",
      "\n",
      "████\n",
      "06:41:52.71: _train param, Dropping bad and constant columns: [urgent]\n",
      "\n",
      "█████\n",
      "06:42:06.352: _train param, Dropping unused columns: [urgent]\n",
      "\n",
      "\n",
      "06:42:07.302: _train param, Dropping unused columns: [urgent]\n",
      "\n",
      "█\n",
      "06:42:08.894: _train param, Dropping bad and constant columns: [urgent]\n",
      "\n",
      "██\n",
      "06:42:13.996: _train param, Dropping bad and constant columns: [urgent]\n",
      "\n",
      "█\n",
      "06:42:18.956: _train param, Dropping bad and constant columns: [urgent]\n",
      "\n",
      "██\n",
      "06:42:24.54: _train param, Dropping bad and constant columns: [urgent]\n",
      "\n",
      "██\n",
      "06:42:27.898: _train param, Dropping unused columns: [urgent]\n",
      "\n",
      "\n",
      "06:42:28.837: _train param, Dropping unused columns: [urgent]\n",
      "\n",
      "████| (done) 100%\n",
      "Parse progress: |████████████████████████████████████████████████████████████████| (done) 100%\n",
      "stackedensemble prediction progress: |███████████████████████████████████████████| (done) 100%\n"
     ]
    },
    {
     "name": "stderr",
     "output_type": "stream",
     "text": [
      "/home/xissah/automl_research_dir/automl_research_env/lib/python3.9/site-packages/h2o/job.py:81: UserWarning: Test/Validation dataset column 'service' has levels not trained on: [\"http_8001\"]\n",
      "  warnings.warn(w)\n",
      "/home/xissah/automl_research_dir/automl_research_env/lib/python3.9/site-packages/h2o/frame.py:1983: H2ODependencyWarning: Converting H2O frame to pandas dataframe using single-thread.  For faster conversion using multi-thread, install datatable (for Python 3.9 or lower), or polars and pyarrow (for Python 3.10 or above) and activate it using:\n",
      "\n",
      "with h2o.utils.threading.local_context(polars_enabled=True, datatable_enabled=True):\n",
      "    pandas_df = h2o_df.as_data_frame()\n",
      "\n",
      "  warnings.warn(\"Converting H2O frame to pandas dataframe using single-thread.  For faster conversion using\"\n"
     ]
    },
    {
     "name": "stdout",
     "output_type": "stream",
     "text": [
      "Parse progress: |████████████████████████████████████████████████████████████████| (done) 100%\n",
      "AutoML progress: |███████████████████████████████████████████████████████████████| (done) 100%\n",
      "Parse progress: |████████████████████████████████████████████████████████████████| (done) 100%\n",
      "stackedensemble prediction progress: |███████████████████████████████████████████| (done) 100%\n"
     ]
    },
    {
     "name": "stderr",
     "output_type": "stream",
     "text": [
      "/home/xissah/automl_research_dir/automl_research_env/lib/python3.9/site-packages/h2o/frame.py:1983: H2ODependencyWarning: Converting H2O frame to pandas dataframe using single-thread.  For faster conversion using multi-thread, install datatable (for Python 3.9 or lower), or polars and pyarrow (for Python 3.10 or above) and activate it using:\n",
      "\n",
      "with h2o.utils.threading.local_context(polars_enabled=True, datatable_enabled=True):\n",
      "    pandas_df = h2o_df.as_data_frame()\n",
      "\n",
      "  warnings.warn(\"Converting H2O frame to pandas dataframe using single-thread.  For faster conversion using\"\n"
     ]
    },
    {
     "name": "stdout",
     "output_type": "stream",
     "text": [
      "Parse progress: |████████████████████████████████████████████████████████████████| (done) 100%\n",
      "AutoML progress: |\n",
      "06:45:45.949: _train param, Dropping bad and constant columns: [land]\n",
      "\n",
      "███████\n",
      "06:46:03.871: _train param, Dropping bad and constant columns: [land]\n",
      "\n",
      "██\n",
      "06:46:09.997: _train param, Dropping bad and constant columns: [land]\n",
      "\n",
      "██████████████\n",
      "06:46:50.461: _train param, Dropping unused columns: [land]\n",
      "\n",
      "\n",
      "06:46:51.824: _train param, Dropping bad and constant columns: [land]\n",
      "\n",
      "█████\n",
      "06:47:06.181: _train param, Dropping bad and constant columns: [land]\n",
      "\n",
      "███\n",
      "06:47:14.549: _train param, Dropping bad and constant columns: [land]\n",
      "\n",
      "█████\n",
      "06:47:28.383: _train param, Dropping bad and constant columns: [land]\n",
      "\n",
      "█████\n",
      "06:47:44.664: _train param, Dropping bad and constant columns: [land]\n",
      "\n",
      "██████\n",
      "06:48:00.47: _train param, Dropping unused columns: [land]\n",
      "\n",
      "\n",
      "06:48:01.353: _train param, Dropping unused columns: [land]\n",
      "\n",
      "█\n",
      "06:48:02.995: _train param, Dropping bad and constant columns: [land]\n",
      "\n",
      "██\n",
      "06:48:10.89: _train param, Dropping bad and constant columns: [land]\n",
      "\n",
      "██\n",
      "06:48:16.342: _train param, Dropping bad and constant columns: [land]\n",
      "\n",
      "███\n",
      "06:48:23.653: _train param, Dropping bad and constant columns: [land]\n",
      "\n",
      "██\n",
      "06:48:28.766: _train param, Dropping unused columns: [land]\n",
      "\n",
      "\n",
      "06:48:30.73: _train param, Dropping unused columns: [land]\n",
      "\n",
      "██████| (done) 100%\n",
      "Parse progress: |████████████████████████████████████████████████████████████████| (done) 100%\n",
      "stackedensemble prediction progress: |███████████████████████████████████████████| (done) 100%\n"
     ]
    },
    {
     "name": "stderr",
     "output_type": "stream",
     "text": [
      "/home/xissah/automl_research_dir/automl_research_env/lib/python3.9/site-packages/h2o/frame.py:1983: H2ODependencyWarning: Converting H2O frame to pandas dataframe using single-thread.  For faster conversion using multi-thread, install datatable (for Python 3.9 or lower), or polars and pyarrow (for Python 3.10 or above) and activate it using:\n",
      "\n",
      "with h2o.utils.threading.local_context(polars_enabled=True, datatable_enabled=True):\n",
      "    pandas_df = h2o_df.as_data_frame()\n",
      "\n",
      "  warnings.warn(\"Converting H2O frame to pandas dataframe using single-thread.  For faster conversion using\"\n"
     ]
    },
    {
     "name": "stdout",
     "output_type": "stream",
     "text": [
      "Parse progress: |████████████████████████████████████████████████████████████████| (done) 100%\n",
      "AutoML progress: |███████████████████████████████████████████████████████████████| (done) 100%\n",
      "Parse progress: |████████████████████████████████████████████████████████████████| (done) 100%\n",
      "stackedensemble prediction progress: |███████████████████████████████████████████| (done) 100%\n"
     ]
    },
    {
     "name": "stderr",
     "output_type": "stream",
     "text": [
      "/home/xissah/automl_research_dir/automl_research_env/lib/python3.9/site-packages/h2o/frame.py:1983: H2ODependencyWarning: Converting H2O frame to pandas dataframe using single-thread.  For faster conversion using multi-thread, install datatable (for Python 3.9 or lower), or polars and pyarrow (for Python 3.10 or above) and activate it using:\n",
      "\n",
      "with h2o.utils.threading.local_context(polars_enabled=True, datatable_enabled=True):\n",
      "    pandas_df = h2o_df.as_data_frame()\n",
      "\n",
      "  warnings.warn(\"Converting H2O frame to pandas dataframe using single-thread.  For faster conversion using\"\n"
     ]
    },
    {
     "name": "stdout",
     "output_type": "stream",
     "text": [
      "Parse progress: |████████████████████████████████████████████████████████████████| (done) 100%\n",
      "AutoML progress: |███████████████████████████████████████████████████████████████| (done) 100%\n",
      "Parse progress: |████████████████████████████████████████████████████████████████| (done) 100%\n",
      "stackedensemble prediction progress: |███████████████████████████████████████████| (done) 100%\n"
     ]
    },
    {
     "name": "stderr",
     "output_type": "stream",
     "text": [
      "/home/xissah/automl_research_dir/automl_research_env/lib/python3.9/site-packages/h2o/job.py:81: UserWarning: Test/Validation dataset column 'service' has levels not trained on: [\"http_8001\"]\n",
      "  warnings.warn(w)\n",
      "/home/xissah/automl_research_dir/automl_research_env/lib/python3.9/site-packages/h2o/frame.py:1983: H2ODependencyWarning: Converting H2O frame to pandas dataframe using single-thread.  For faster conversion using multi-thread, install datatable (for Python 3.9 or lower), or polars and pyarrow (for Python 3.10 or above) and activate it using:\n",
      "\n",
      "with h2o.utils.threading.local_context(polars_enabled=True, datatable_enabled=True):\n",
      "    pandas_df = h2o_df.as_data_frame()\n",
      "\n",
      "  warnings.warn(\"Converting H2O frame to pandas dataframe using single-thread.  For faster conversion using\"\n"
     ]
    },
    {
     "name": "stdout",
     "output_type": "stream",
     "text": [
      "Parse progress: |████████████████████████████████████████████████████████████████| (done) 100%\n",
      "AutoML progress: |███████████████████████████████████████████████████████████████| (done) 100%\n",
      "Parse progress: |████████████████████████████████████████████████████████████████| (done) 100%\n",
      "stackedensemble prediction progress: |███████████████████████████████████████████| (done) 100%\n"
     ]
    },
    {
     "name": "stderr",
     "output_type": "stream",
     "text": [
      "/home/xissah/automl_research_dir/automl_research_env/lib/python3.9/site-packages/h2o/frame.py:1983: H2ODependencyWarning: Converting H2O frame to pandas dataframe using single-thread.  For faster conversion using multi-thread, install datatable (for Python 3.9 or lower), or polars and pyarrow (for Python 3.10 or above) and activate it using:\n",
      "\n",
      "with h2o.utils.threading.local_context(polars_enabled=True, datatable_enabled=True):\n",
      "    pandas_df = h2o_df.as_data_frame()\n",
      "\n",
      "  warnings.warn(\"Converting H2O frame to pandas dataframe using single-thread.  For faster conversion using\"\n"
     ]
    },
    {
     "name": "stdout",
     "output_type": "stream",
     "text": [
      "Parse progress: |████████████████████████████████████████████████████████████████| (done) 100%\n",
      "AutoML progress: |\n",
      "06:57:55.822: _train param, Dropping bad and constant columns: [urgent]\n",
      "\n",
      "███████\n",
      "06:58:15.634: _train param, Dropping bad and constant columns: [urgent]\n",
      "\n",
      "██\n",
      "06:58:21.181: _train param, Dropping bad and constant columns: [urgent]\n",
      "\n",
      "█████████████\n",
      "06:58:59.604: _train param, Dropping unused columns: [urgent]\n",
      "\n",
      "█\n",
      "06:59:00.973: _train param, Dropping bad and constant columns: [urgent]\n",
      "\n",
      "████\n",
      "06:59:13.414: _train param, Dropping bad and constant columns: [urgent]\n",
      "\n",
      "███\n",
      "06:59:21.573: _train param, Dropping bad and constant columns: [urgent]\n",
      "\n",
      "█████\n",
      "06:59:35.817: _train param, Dropping bad and constant columns: [urgent]\n",
      "\n",
      "█████\n",
      "06:59:50.798: _train param, Dropping bad and constant columns: [urgent]\n",
      "\n",
      "██████\n",
      "07:00:07.167: _train param, Dropping unused columns: [urgent]\n",
      "\n",
      "\n",
      "07:00:08.449: _train param, Dropping unused columns: [urgent]\n",
      "\n",
      "█\n",
      "07:00:10.226: _train param, Dropping bad and constant columns: [urgent]\n",
      "\n",
      "███\n",
      "07:00:17.533: _train param, Dropping bad and constant columns: [urgent]\n",
      "\n",
      "██\n",
      "07:00:24.242: _train param, Dropping bad and constant columns: [urgent]\n",
      "\n",
      "██\n",
      "07:00:32.66: _train param, Dropping bad and constant columns: [urgent]\n",
      "\n",
      "██\n",
      "07:00:36.995: _train param, Dropping unused columns: [urgent]\n",
      "\n",
      "\n",
      "07:00:38.352: _train param, Dropping unused columns: [urgent]\n",
      "\n",
      "███████| (done) 100%\n",
      "Parse progress: |████████████████████████████████████████████████████████████████| (done) 100%\n",
      "stackedensemble prediction progress: |███████████████████████████████████████████| (done) 100%\n"
     ]
    },
    {
     "name": "stderr",
     "output_type": "stream",
     "text": [
      "/home/xissah/automl_research_dir/automl_research_env/lib/python3.9/site-packages/h2o/frame.py:1983: H2ODependencyWarning: Converting H2O frame to pandas dataframe using single-thread.  For faster conversion using multi-thread, install datatable (for Python 3.9 or lower), or polars and pyarrow (for Python 3.10 or above) and activate it using:\n",
      "\n",
      "with h2o.utils.threading.local_context(polars_enabled=True, datatable_enabled=True):\n",
      "    pandas_df = h2o_df.as_data_frame()\n",
      "\n",
      "  warnings.warn(\"Converting H2O frame to pandas dataframe using single-thread.  For faster conversion using\"\n"
     ]
    },
    {
     "name": "stdout",
     "output_type": "stream",
     "text": [
      "Parse progress: |████████████████████████████████████████████████████████████████| (done) 100%\n",
      "AutoML progress: |███████████████████████████████████████████████████████████████| (done) 100%\n",
      "Parse progress: |████████████████████████████████████████████████████████████████| (done) 100%\n",
      "stackedensemble prediction progress: |███████████████████████████████████████████| (done) 100%\n",
      "Средняя точность: 0.9976712067994823\n",
      "Средний F1-макро: 0.9976601904637391\n",
      "H2O session _sid_911b closed.\n"
     ]
    },
    {
     "name": "stderr",
     "output_type": "stream",
     "text": [
      "/home/xissah/automl_research_dir/automl_research_env/lib/python3.9/site-packages/h2o/frame.py:1983: H2ODependencyWarning: Converting H2O frame to pandas dataframe using single-thread.  For faster conversion using multi-thread, install datatable (for Python 3.9 or lower), or polars and pyarrow (for Python 3.10 or above) and activate it using:\n",
      "\n",
      "with h2o.utils.threading.local_context(polars_enabled=True, datatable_enabled=True):\n",
      "    pandas_df = h2o_df.as_data_frame()\n",
      "\n",
      "  warnings.warn(\"Converting H2O frame to pandas dataframe using single-thread.  For faster conversion using\"\n",
      "/tmp/ipykernel_3755/1107057021.py:52: H2ODeprecationWarning: Deprecated, use ``h2o.cluster().shutdown()``.\n",
      "  h2o.shutdown()\n"
     ]
    }
   ],
   "source": [
    "import h2o\n",
    "from h2o.automl import H2OAutoML\n",
    "from sklearn.base import BaseEstimator, ClassifierMixin\n",
    "from sklearn.model_selection import cross_validate\n",
    "import pandas as pd\n",
    "from sklearn.metrics import f1_score, accuracy_score\n",
    "\n",
    "# Запуск H2O\n",
    "h2o.init()\n",
    "\n",
    "# Создание обертки для H2OAutoML\n",
    "class H2OAutoMLClassifier(BaseEstimator, ClassifierMixin):\n",
    "    def __init__(self, max_runtime_secs=60, seed=42):\n",
    "        self.max_runtime_secs = max_runtime_secs\n",
    "        self.seed = seed\n",
    "        self.automl = None\n",
    "        self.classes_ = None\n",
    "\n",
    "    def fit(self, X, y):\n",
    "        # Преобразование данных в H2OFrame\n",
    "        train = h2o.H2OFrame(pd.concat([X, y], axis=1))\n",
    "        predictors = X.columns.tolist()\n",
    "        response = y.name\n",
    "\n",
    "        # Запуск H2OAutoML\n",
    "        self.automl = H2OAutoML(max_runtime_secs=self.max_runtime_secs, seed=self.seed)\n",
    "        self.automl.train(x=predictors, y=response, training_frame=train)\n",
    "        \n",
    "        # Установка атрибута classes_\n",
    "        self.classes_ = y.unique().tolist()\n",
    "        return self\n",
    "\n",
    "    def predict(self, X):\n",
    "        # Преобразование данных в H2OFrame\n",
    "        test = h2o.H2OFrame(X)\n",
    "        predictions = self.automl.predict(test).as_data_frame()\n",
    "        return predictions['predict'].values\n",
    "\n",
    "# Создание экземпляра H2OAutoML\n",
    "h2o_automl_wrapper = H2OAutoMLClassifier(max_runtime_secs=180, seed=42)\n",
    "\n",
    "# Кросс-валидация\n",
    "cv_results_h2o = cross_validate(h2o_automl_wrapper, X, y, cv=cv, scoring=scoring)\n",
    "\n",
    "results['H2OAutoMLClassifier_accuracy'] = cv_results_h2o['test_accuracy'].mean()\n",
    "results['H2OAutoMLClassifier_f1'] = cv_results_h2o['test_f1_macro'].mean()\n",
    "\n",
    "print(f\"Средняя точность: {cv_results_h2o['test_accuracy'].mean()}\")\n",
    "print(f\"Средний F1-макро: {cv_results_h2o['test_f1_macro'].mean()}\")\n",
    "\n",
    "# Остановка H2O\n",
    "h2o.shutdown()\n"
   ]
  },
  {
   "cell_type": "code",
   "execution_count": 11,
   "metadata": {},
   "outputs": [
    {
     "name": "stderr",
     "output_type": "stream",
     "text": [
      "/home/xissah/automl_research_dir/automl_research_env/lib/python3.9/site-packages/autosklearn/data/feature_validator.py:318: UserWarning: Input Column protocol_type has generic type object. Autosklearn will treat this column as string. Please ensure that this setting is suitable for your task.\n",
      "  warnings.warn(\n",
      "/home/xissah/automl_research_dir/automl_research_env/lib/python3.9/site-packages/autosklearn/data/feature_validator.py:318: UserWarning: Input Column service has generic type object. Autosklearn will treat this column as string. Please ensure that this setting is suitable for your task.\n",
      "  warnings.warn(\n",
      "/home/xissah/automl_research_dir/automl_research_env/lib/python3.9/site-packages/autosklearn/data/feature_validator.py:318: UserWarning: Input Column flag has generic type object. Autosklearn will treat this column as string. Please ensure that this setting is suitable for your task.\n",
      "  warnings.warn(\n",
      "/home/xissah/automl_research_dir/automl_research_env/lib/python3.9/site-packages/autosklearn/data/feature_validator.py:318: UserWarning: Input Column protocol_type has generic type object. Autosklearn will treat this column as string. Please ensure that this setting is suitable for your task.\n",
      "  warnings.warn(\n",
      "/home/xissah/automl_research_dir/automl_research_env/lib/python3.9/site-packages/autosklearn/data/feature_validator.py:318: UserWarning: Input Column service has generic type object. Autosklearn will treat this column as string. Please ensure that this setting is suitable for your task.\n",
      "  warnings.warn(\n",
      "/home/xissah/automl_research_dir/automl_research_env/lib/python3.9/site-packages/autosklearn/data/feature_validator.py:318: UserWarning: Input Column flag has generic type object. Autosklearn will treat this column as string. Please ensure that this setting is suitable for your task.\n",
      "  warnings.warn(\n",
      "/home/xissah/automl_research_dir/automl_research_env/lib/python3.9/site-packages/autosklearn/data/feature_validator.py:318: UserWarning: Input Column protocol_type has generic type object. Autosklearn will treat this column as string. Please ensure that this setting is suitable for your task.\n",
      "  warnings.warn(\n",
      "/home/xissah/automl_research_dir/automl_research_env/lib/python3.9/site-packages/autosklearn/data/feature_validator.py:318: UserWarning: Input Column service has generic type object. Autosklearn will treat this column as string. Please ensure that this setting is suitable for your task.\n",
      "  warnings.warn(\n",
      "/home/xissah/automl_research_dir/automl_research_env/lib/python3.9/site-packages/autosklearn/data/feature_validator.py:318: UserWarning: Input Column flag has generic type object. Autosklearn will treat this column as string. Please ensure that this setting is suitable for your task.\n",
      "  warnings.warn(\n",
      "/home/xissah/automl_research_dir/automl_research_env/lib/python3.9/site-packages/autosklearn/data/feature_validator.py:318: UserWarning: Input Column protocol_type has generic type object. Autosklearn will treat this column as string. Please ensure that this setting is suitable for your task.\n",
      "  warnings.warn(\n",
      "/home/xissah/automl_research_dir/automl_research_env/lib/python3.9/site-packages/autosklearn/data/feature_validator.py:318: UserWarning: Input Column service has generic type object. Autosklearn will treat this column as string. Please ensure that this setting is suitable for your task.\n",
      "  warnings.warn(\n",
      "/home/xissah/automl_research_dir/automl_research_env/lib/python3.9/site-packages/autosklearn/data/feature_validator.py:318: UserWarning: Input Column flag has generic type object. Autosklearn will treat this column as string. Please ensure that this setting is suitable for your task.\n",
      "  warnings.warn(\n",
      "/home/xissah/automl_research_dir/automl_research_env/lib/python3.9/site-packages/autosklearn/data/feature_validator.py:318: UserWarning: Input Column protocol_type has generic type object. Autosklearn will treat this column as string. Please ensure that this setting is suitable for your task.\n",
      "  warnings.warn(\n",
      "/home/xissah/automl_research_dir/automl_research_env/lib/python3.9/site-packages/autosklearn/data/feature_validator.py:318: UserWarning: Input Column service has generic type object. Autosklearn will treat this column as string. Please ensure that this setting is suitable for your task.\n",
      "  warnings.warn(\n",
      "/home/xissah/automl_research_dir/automl_research_env/lib/python3.9/site-packages/autosklearn/data/feature_validator.py:318: UserWarning: Input Column flag has generic type object. Autosklearn will treat this column as string. Please ensure that this setting is suitable for your task.\n",
      "  warnings.warn(\n",
      "/home/xissah/automl_research_dir/automl_research_env/lib/python3.9/site-packages/autosklearn/data/feature_validator.py:318: UserWarning: Input Column protocol_type has generic type object. Autosklearn will treat this column as string. Please ensure that this setting is suitable for your task.\n",
      "  warnings.warn(\n",
      "/home/xissah/automl_research_dir/automl_research_env/lib/python3.9/site-packages/autosklearn/data/feature_validator.py:318: UserWarning: Input Column service has generic type object. Autosklearn will treat this column as string. Please ensure that this setting is suitable for your task.\n",
      "  warnings.warn(\n",
      "/home/xissah/automl_research_dir/automl_research_env/lib/python3.9/site-packages/autosklearn/data/feature_validator.py:318: UserWarning: Input Column flag has generic type object. Autosklearn will treat this column as string. Please ensure that this setting is suitable for your task.\n",
      "  warnings.warn(\n",
      "/home/xissah/automl_research_dir/automl_research_env/lib/python3.9/site-packages/autosklearn/data/feature_validator.py:318: UserWarning: Input Column protocol_type has generic type object. Autosklearn will treat this column as string. Please ensure that this setting is suitable for your task.\n",
      "  warnings.warn(\n",
      "/home/xissah/automl_research_dir/automl_research_env/lib/python3.9/site-packages/autosklearn/data/feature_validator.py:318: UserWarning: Input Column service has generic type object. Autosklearn will treat this column as string. Please ensure that this setting is suitable for your task.\n",
      "  warnings.warn(\n",
      "/home/xissah/automl_research_dir/automl_research_env/lib/python3.9/site-packages/autosklearn/data/feature_validator.py:318: UserWarning: Input Column flag has generic type object. Autosklearn will treat this column as string. Please ensure that this setting is suitable for your task.\n",
      "  warnings.warn(\n",
      "/home/xissah/automl_research_dir/automl_research_env/lib/python3.9/site-packages/autosklearn/data/feature_validator.py:318: UserWarning: Input Column protocol_type has generic type object. Autosklearn will treat this column as string. Please ensure that this setting is suitable for your task.\n",
      "  warnings.warn(\n",
      "/home/xissah/automl_research_dir/automl_research_env/lib/python3.9/site-packages/autosklearn/data/feature_validator.py:318: UserWarning: Input Column service has generic type object. Autosklearn will treat this column as string. Please ensure that this setting is suitable for your task.\n",
      "  warnings.warn(\n",
      "/home/xissah/automl_research_dir/automl_research_env/lib/python3.9/site-packages/autosklearn/data/feature_validator.py:318: UserWarning: Input Column flag has generic type object. Autosklearn will treat this column as string. Please ensure that this setting is suitable for your task.\n",
      "  warnings.warn(\n",
      "/home/xissah/automl_research_dir/automl_research_env/lib/python3.9/site-packages/autosklearn/data/feature_validator.py:318: UserWarning: Input Column protocol_type has generic type object. Autosklearn will treat this column as string. Please ensure that this setting is suitable for your task.\n",
      "  warnings.warn(\n",
      "/home/xissah/automl_research_dir/automl_research_env/lib/python3.9/site-packages/autosklearn/data/feature_validator.py:318: UserWarning: Input Column service has generic type object. Autosklearn will treat this column as string. Please ensure that this setting is suitable for your task.\n",
      "  warnings.warn(\n",
      "/home/xissah/automl_research_dir/automl_research_env/lib/python3.9/site-packages/autosklearn/data/feature_validator.py:318: UserWarning: Input Column flag has generic type object. Autosklearn will treat this column as string. Please ensure that this setting is suitable for your task.\n",
      "  warnings.warn(\n",
      "/home/xissah/automl_research_dir/automl_research_env/lib/python3.9/site-packages/autosklearn/data/feature_validator.py:318: UserWarning: Input Column protocol_type has generic type object. Autosklearn will treat this column as string. Please ensure that this setting is suitable for your task.\n",
      "  warnings.warn(\n",
      "/home/xissah/automl_research_dir/automl_research_env/lib/python3.9/site-packages/autosklearn/data/feature_validator.py:318: UserWarning: Input Column service has generic type object. Autosklearn will treat this column as string. Please ensure that this setting is suitable for your task.\n",
      "  warnings.warn(\n",
      "/home/xissah/automl_research_dir/automl_research_env/lib/python3.9/site-packages/autosklearn/data/feature_validator.py:318: UserWarning: Input Column flag has generic type object. Autosklearn will treat this column as string. Please ensure that this setting is suitable for your task.\n",
      "  warnings.warn(\n",
      "/home/xissah/automl_research_dir/automl_research_env/lib/python3.9/site-packages/autosklearn/data/feature_validator.py:318: UserWarning: Input Column protocol_type has generic type object. Autosklearn will treat this column as string. Please ensure that this setting is suitable for your task.\n",
      "  warnings.warn(\n",
      "/home/xissah/automl_research_dir/automl_research_env/lib/python3.9/site-packages/autosklearn/data/feature_validator.py:318: UserWarning: Input Column service has generic type object. Autosklearn will treat this column as string. Please ensure that this setting is suitable for your task.\n",
      "  warnings.warn(\n",
      "/home/xissah/automl_research_dir/automl_research_env/lib/python3.9/site-packages/autosklearn/data/feature_validator.py:318: UserWarning: Input Column flag has generic type object. Autosklearn will treat this column as string. Please ensure that this setting is suitable for your task.\n",
      "  warnings.warn(\n",
      "/home/xissah/automl_research_dir/automl_research_env/lib/python3.9/site-packages/autosklearn/data/feature_validator.py:318: UserWarning: Input Column protocol_type has generic type object. Autosklearn will treat this column as string. Please ensure that this setting is suitable for your task.\n",
      "  warnings.warn(\n",
      "/home/xissah/automl_research_dir/automl_research_env/lib/python3.9/site-packages/autosklearn/data/feature_validator.py:318: UserWarning: Input Column service has generic type object. Autosklearn will treat this column as string. Please ensure that this setting is suitable for your task.\n",
      "  warnings.warn(\n",
      "/home/xissah/automl_research_dir/automl_research_env/lib/python3.9/site-packages/autosklearn/data/feature_validator.py:318: UserWarning: Input Column flag has generic type object. Autosklearn will treat this column as string. Please ensure that this setting is suitable for your task.\n",
      "  warnings.warn(\n",
      "/home/xissah/automl_research_dir/automl_research_env/lib/python3.9/site-packages/autosklearn/data/feature_validator.py:318: UserWarning: Input Column protocol_type has generic type object. Autosklearn will treat this column as string. Please ensure that this setting is suitable for your task.\n",
      "  warnings.warn(\n",
      "/home/xissah/automl_research_dir/automl_research_env/lib/python3.9/site-packages/autosklearn/data/feature_validator.py:318: UserWarning: Input Column service has generic type object. Autosklearn will treat this column as string. Please ensure that this setting is suitable for your task.\n",
      "  warnings.warn(\n",
      "/home/xissah/automl_research_dir/automl_research_env/lib/python3.9/site-packages/autosklearn/data/feature_validator.py:318: UserWarning: Input Column flag has generic type object. Autosklearn will treat this column as string. Please ensure that this setting is suitable for your task.\n",
      "  warnings.warn(\n",
      "/home/xissah/automl_research_dir/automl_research_env/lib/python3.9/site-packages/autosklearn/data/feature_validator.py:318: UserWarning: Input Column protocol_type has generic type object. Autosklearn will treat this column as string. Please ensure that this setting is suitable for your task.\n",
      "  warnings.warn(\n",
      "/home/xissah/automl_research_dir/automl_research_env/lib/python3.9/site-packages/autosklearn/data/feature_validator.py:318: UserWarning: Input Column service has generic type object. Autosklearn will treat this column as string. Please ensure that this setting is suitable for your task.\n",
      "  warnings.warn(\n",
      "/home/xissah/automl_research_dir/automl_research_env/lib/python3.9/site-packages/autosklearn/data/feature_validator.py:318: UserWarning: Input Column flag has generic type object. Autosklearn will treat this column as string. Please ensure that this setting is suitable for your task.\n",
      "  warnings.warn(\n",
      "/home/xissah/automl_research_dir/automl_research_env/lib/python3.9/site-packages/autosklearn/data/feature_validator.py:318: UserWarning: Input Column protocol_type has generic type object. Autosklearn will treat this column as string. Please ensure that this setting is suitable for your task.\n",
      "  warnings.warn(\n",
      "/home/xissah/automl_research_dir/automl_research_env/lib/python3.9/site-packages/autosklearn/data/feature_validator.py:318: UserWarning: Input Column service has generic type object. Autosklearn will treat this column as string. Please ensure that this setting is suitable for your task.\n",
      "  warnings.warn(\n",
      "/home/xissah/automl_research_dir/automl_research_env/lib/python3.9/site-packages/autosklearn/data/feature_validator.py:318: UserWarning: Input Column flag has generic type object. Autosklearn will treat this column as string. Please ensure that this setting is suitable for your task.\n",
      "  warnings.warn(\n"
     ]
    },
    {
     "name": "stdout",
     "output_type": "stream",
     "text": [
      "Средняя точность: 0.9970493141454837\n",
      "Средний F1-макро: 0.9970350001698287\n"
     ]
    }
   ],
   "source": [
    "# AutoSklearnClassifier\n",
    "autosk = autosklearn.classification.AutoSklearnClassifier(time_left_for_this_task=180)\n",
    "cv_results_autosk = cross_validate(autosk, X, y, cv=cv, scoring=scoring)\n",
    "results['AutoSklearnClassifier_accuracy'] = cv_results_autosk['test_accuracy'].mean()\n",
    "results['AutoSklearnClassifier_f1'] = cv_results_autosk['test_f1_macro'].mean()\n",
    "print(f\"Средняя точность: {cv_results_autosk['test_accuracy'].mean()}\")\n",
    "print(f\"Средний F1-макро: {cv_results_autosk['test_f1_macro'].mean()}\")"
   ]
  },
  {
   "cell_type": "code",
   "execution_count": 12,
   "metadata": {},
   "outputs": [
    {
     "name": "stdout",
     "output_type": "stream",
     "text": [
      "Средняя точность: 0.9972742291218871\n",
      "Средний F1-макро: 0.9972610245383877\n"
     ]
    }
   ],
   "source": [
    "# TPOTClassifier\n",
    "\n",
    "ct_tpot = make_column_transformer(\n",
    "    (enc, [\"protocol_type\", \"service\", \"flag\"]),\n",
    "    remainder=\"passthrough\"\n",
    ")\n",
    "\n",
    "tpot_pipe = make_pipeline(ct_tpot, TPOTClassifier(max_time_mins=3))\n",
    "cv_results_tpot = cross_validate(tpot_pipe, X, y, cv=cv, scoring=scoring)\n",
    "results['TPOTClassifier_accuracy'] = cv_results_tpot['test_accuracy'].mean()\n",
    "results['TPOTClassifier_f1'] = cv_results_tpot['test_f1_macro'].mean()\n",
    "print(f\"Средняя точность: {cv_results_tpot['test_accuracy'].mean()}\")\n",
    "print(f\"Средний F1-макро: {cv_results_tpot['test_f1_macro'].mean()}\")"
   ]
  },
  {
   "cell_type": "code",
   "execution_count": 4,
   "metadata": {},
   "outputs": [
    {
     "data": {
      "image/png": "[encoded data removed]",
      "text/plain": [
       "<Figure size 1200x1000 with 2 Axes>"
      ]
     },
     "metadata": {},
     "output_type": "display_data"
    }
   ],
   "source": [
    "import matplotlib.pyplot as plt\n",
    "\n",
    "# Данные моделей\n",
    "model_names = [\n",
    "    'GaussianNB', 'LinearDiscriminantAnalysis', 'LogisticRegression', 'RandomForestClassifier', 'AdaBoostClassifier',\n",
    "               'TPOTClassifier', 'AutoSklearnClassifier', 'H2OAutoMLClassifier'\n",
    "               ]\n",
    "accuracies = [results[f'{model}_accuracy'] for model in model_names]\n",
    "f1_scores = [results[f'{model}_f1'] for model in model_names]\n",
    "\n",
    "# Построение диаграмм\n",
    "fig, ax = plt.subplots(2, 1, figsize=(12, 10))\n",
    "\n",
    "# Диаграмма точности (accuracy)\n",
    "ax[0].barh(model_names, accuracies, color='skyblue')\n",
    "ax[0].set_title('Model Accuracy')\n",
    "ax[0].set_xlabel('Accuracy')\n",
    "ax[0].set_xlim(0, 1)\n",
    "\n",
    "# Добавление подписей к столбикам точности\n",
    "for i, v in enumerate(accuracies):\n",
    "    ax[0].text(v - 0.1, i, f'{v:.5f}', color='black', va='center', ha='center', fontweight='bold')\n",
    "\n",
    "# Диаграмма F1 (f1_score)\n",
    "ax[1].barh(model_names, f1_scores, color='salmon')\n",
    "ax[1].set_title('Model F1 Score')\n",
    "ax[1].set_xlabel('F1 Score')\n",
    "ax[1].set_xlim(0, 1)\n",
    "\n",
    "# Добавление подписей к столбикам F1\n",
    "for i, v in enumerate(f1_scores):\n",
    "    ax[1].text(v - 0.1, i, f'{v:.5f}', color='black', va='center', ha='center', fontweight='bold')\n",
    "\n",
    "plt.tight_layout()\n",
    "plt.show()"
   ]
  },
  {
   "cell_type": "code",
   "execution_count": 18,
   "metadata": {},
   "outputs": [],
   "source": [
    "import pickle\n",
    "with open('results.pkl', 'wb') as f:\n",
    "    pickle.dump(results, f)"
   ]
  },
  {
   "cell_type": "code",
   "execution_count": 2,
   "metadata": {},
   "outputs": [],
   "source": [
    "import pickle\n",
    "with open('results.pkl', 'rb') as f:\n",
    "    results = pickle.load(f)"
   ]
  }
 ],
 "metadata": {
  "kernelspec": {
   "display_name": "Python 3 (ipykernel)",
   "language": "python",
   "name": "python3"
  },
  "language_info": {
   "codemirror_mode": {
    "name": "ipython",
    "version": 3
   },
   "file_extension": ".py",
   "mimetype": "text/x-python",
   "name": "python",
   "nbconvert_exporter": "python",
   "pygments_lexer": "ipython3",
   "version": "3.9.18"
  }
 },
 "nbformat": 4,
 "nbformat_minor": 2
}
